{
 "cells": [
  {
   "cell_type": "code",
   "execution_count": 1,
   "id": "loaded-bronze",
   "metadata": {},
   "outputs": [
    {
     "data": {
      "text/html": [
       "<div>\n",
       "<style scoped>\n",
       "    .dataframe tbody tr th:only-of-type {\n",
       "        vertical-align: middle;\n",
       "    }\n",
       "\n",
       "    .dataframe tbody tr th {\n",
       "        vertical-align: top;\n",
       "    }\n",
       "\n",
       "    .dataframe thead th {\n",
       "        text-align: right;\n",
       "    }\n",
       "</style>\n",
       "<table border=\"1\" class=\"dataframe\">\n",
       "  <thead>\n",
       "    <tr style=\"text-align: right;\">\n",
       "      <th></th>\n",
       "      <th>Unnamed: 0</th>\n",
       "      <th>A</th>\n",
       "      <th>B</th>\n",
       "      <th>C</th>\n",
       "      <th>label</th>\n",
       "    </tr>\n",
       "  </thead>\n",
       "  <tbody>\n",
       "    <tr>\n",
       "      <th>0</th>\n",
       "      <td>0</td>\n",
       "      <td>-1113.924581</td>\n",
       "      <td>952.105404</td>\n",
       "      <td>-276.045881</td>\n",
       "      <td>-1.294289e+03</td>\n",
       "    </tr>\n",
       "    <tr>\n",
       "      <th>1</th>\n",
       "      <td>1</td>\n",
       "      <td>-2229.480228</td>\n",
       "      <td>1111.488568</td>\n",
       "      <td>-93.454107</td>\n",
       "      <td>-2.714687e+04</td>\n",
       "    </tr>\n",
       "    <tr>\n",
       "      <th>2</th>\n",
       "      <td>2</td>\n",
       "      <td>2717.257713</td>\n",
       "      <td>53.431237</td>\n",
       "      <td>-179.228591</td>\n",
       "      <td>6.474300e+04</td>\n",
       "    </tr>\n",
       "    <tr>\n",
       "      <th>3</th>\n",
       "      <td>3</td>\n",
       "      <td>-1638.783965</td>\n",
       "      <td>-632.919447</td>\n",
       "      <td>-106.170237</td>\n",
       "      <td>-7.349871e+03</td>\n",
       "    </tr>\n",
       "    <tr>\n",
       "      <th>4</th>\n",
       "      <td>4</td>\n",
       "      <td>5173.934338</td>\n",
       "      <td>-721.895577</td>\n",
       "      <td>-75.074840</td>\n",
       "      <td>1.651328e+06</td>\n",
       "    </tr>\n",
       "    <tr>\n",
       "      <th>...</th>\n",
       "      <td>...</td>\n",
       "      <td>...</td>\n",
       "      <td>...</td>\n",
       "      <td>...</td>\n",
       "      <td>...</td>\n",
       "    </tr>\n",
       "    <tr>\n",
       "      <th>49995</th>\n",
       "      <td>49995</td>\n",
       "      <td>-401.109554</td>\n",
       "      <td>205.180269</td>\n",
       "      <td>-123.837422</td>\n",
       "      <td>-6.275985e+00</td>\n",
       "    </tr>\n",
       "    <tr>\n",
       "      <th>49996</th>\n",
       "      <td>49996</td>\n",
       "      <td>832.536891</td>\n",
       "      <td>-723.312711</td>\n",
       "      <td>-128.736597</td>\n",
       "      <td>2.390843e+02</td>\n",
       "    </tr>\n",
       "    <tr>\n",
       "      <th>49997</th>\n",
       "      <td>49997</td>\n",
       "      <td>-533.446993</td>\n",
       "      <td>1171.457335</td>\n",
       "      <td>-130.840925</td>\n",
       "      <td>-2.857080e+02</td>\n",
       "    </tr>\n",
       "    <tr>\n",
       "      <th>49998</th>\n",
       "      <td>49998</td>\n",
       "      <td>1810.499103</td>\n",
       "      <td>-424.111696</td>\n",
       "      <td>-128.334986</td>\n",
       "      <td>8.161595e+03</td>\n",
       "    </tr>\n",
       "    <tr>\n",
       "      <th>49999</th>\n",
       "      <td>49999</td>\n",
       "      <td>-861.910217</td>\n",
       "      <td>257.295992</td>\n",
       "      <td>-176.122871</td>\n",
       "      <td>-2.551671e+02</td>\n",
       "    </tr>\n",
       "  </tbody>\n",
       "</table>\n",
       "<p>50000 rows × 5 columns</p>\n",
       "</div>"
      ],
      "text/plain": [
       "       Unnamed: 0            A            B           C         label\n",
       "0               0 -1113.924581   952.105404 -276.045881 -1.294289e+03\n",
       "1               1 -2229.480228  1111.488568  -93.454107 -2.714687e+04\n",
       "2               2  2717.257713    53.431237 -179.228591  6.474300e+04\n",
       "3               3 -1638.783965  -632.919447 -106.170237 -7.349871e+03\n",
       "4               4  5173.934338  -721.895577  -75.074840  1.651328e+06\n",
       "...           ...          ...          ...         ...           ...\n",
       "49995       49995  -401.109554   205.180269 -123.837422 -6.275985e+00\n",
       "49996       49996   832.536891  -723.312711 -128.736597  2.390843e+02\n",
       "49997       49997  -533.446993  1171.457335 -130.840925 -2.857080e+02\n",
       "49998       49998  1810.499103  -424.111696 -128.334986  8.161595e+03\n",
       "49999       49999  -861.910217   257.295992 -176.122871 -2.551671e+02\n",
       "\n",
       "[50000 rows x 5 columns]"
      ]
     },
     "execution_count": 1,
     "metadata": {},
     "output_type": "execute_result"
    }
   ],
   "source": [
    "import numpy as np\n",
    "import pandas as pd\n",
    "import matplotlib.pyplot as plt\n",
    "df=pd.read_csv(\"polynomial_train.csv\")\n",
    "df"
   ]
  },
  {
   "cell_type": "code",
   "execution_count": 2,
   "id": "conditional-outside",
   "metadata": {},
   "outputs": [
    {
     "name": "stdout",
     "output_type": "stream",
     "text": [
      "-3.9111612578702797 4.14207638800132\n"
     ]
    },
    {
     "data": {
      "image/png": "[encoded data removed]",
      "text/plain": [
       "<Figure size 432x288 with 1 Axes>"
      ]
     },
     "metadata": {
      "needs_background": "light"
     },
     "output_type": "display_data"
    }
   ],
   "source": [
    "x_train=np.array(df.loc[:,'A'])\n",
    "y_train=np.array(df.loc[:,\"label\"])\n",
    "x=(x_train-np.mean(x_train,axis=0))/np.std(x_train,axis=0)\n",
    "y=(y_train-np.mean(y_train,axis=0))/np.std(y_train,axis=0)\n",
    "plt.scatter(x,y)\n",
    "len(x)\n",
    "print(min(x),max(x))"
   ]
  },
  {
   "cell_type": "code",
   "execution_count": 6,
   "id": "relevant-denmark",
   "metadata": {},
   "outputs": [],
   "source": [
    "mymodel=np.poly1d(np.polyfit(x,y,4))\n"
   ]
  },
  {
   "cell_type": "code",
   "execution_count": 8,
   "id": "furnished-algeria",
   "metadata": {},
   "outputs": [
    {
     "data": {
      "text/plain": [
       "[<matplotlib.lines.Line2D at 0x7f9cc7c45bb0>]"
      ]
     },
     "execution_count": 8,
     "metadata": {},
     "output_type": "execute_result"
    },
    {
     "data": {
      "image/png": "[encoded data removed]",
      "text/plain": [
       "<Figure size 432x288 with 1 Axes>"
      ]
     },
     "metadata": {
      "needs_background": "light"
     },
     "output_type": "display_data"
    }
   ],
   "source": [
    "plt.scatter(x,y)\n",
    "myline=np.linspace(-5,5,900)\n",
    "plt.plot(myline,mymodel(myline),color='red')"
   ]
  },
  {
   "cell_type": "code",
   "execution_count": null,
   "id": "overhead-valuable",
   "metadata": {},
   "outputs": [],
   "source": []
  },
  {
   "cell_type": "code",
   "execution_count": null,
   "id": "sized-legend",
   "metadata": {},
   "outputs": [],
   "source": []
  }
 ],
 "metadata": {
  "kernelspec": {
   "display_name": "Python 3",
   "language": "python",
   "name": "python3"
  },
  "language_info": {
   "codemirror_mode": {
    "name": "ipython",
    "version": 3
   },
   "file_extension": ".py",
   "mimetype": "text/x-python",
   "name": "python",
   "nbconvert_exporter": "python",
   "pygments_lexer": "ipython3",
   "version": "3.8.5"
  }
 },
 "nbformat": 4,
 "nbformat_minor": 5
}
